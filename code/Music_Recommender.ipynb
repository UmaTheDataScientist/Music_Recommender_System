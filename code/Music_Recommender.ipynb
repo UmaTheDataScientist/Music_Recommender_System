{
 "cells": [
  {
   "cell_type": "code",
   "execution_count": 1,
   "id": "6c3da634",
   "metadata": {},
   "outputs": [],
   "source": [
    "import pandas as pd"
   ]
  },
  {
   "cell_type": "code",
   "execution_count": 2,
   "id": "30f725ac",
   "metadata": {},
   "outputs": [],
   "source": [
    "filepath = '../data/train_triplets.txt'"
   ]
  },
  {
   "cell_type": "code",
   "execution_count": 3,
   "id": "9c991840",
   "metadata": {},
   "outputs": [],
   "source": [
    "\n",
    "triplet_dataset = pd.read_csv(filepath_or_buffer = filepath,header = None,sep = '\\t',names = ['user','song','play_count'])\n"
   ]
  },
  {
   "cell_type": "code",
   "execution_count": 4,
   "id": "120fb2c3",
   "metadata": {},
   "outputs": [
    {
     "data": {
      "text/html": [
       "<div>\n",
       "<style scoped>\n",
       "    .dataframe tbody tr th:only-of-type {\n",
       "        vertical-align: middle;\n",
       "    }\n",
       "\n",
       "    .dataframe tbody tr th {\n",
       "        vertical-align: top;\n",
       "    }\n",
       "\n",
       "    .dataframe thead th {\n",
       "        text-align: right;\n",
       "    }\n",
       "</style>\n",
       "<table border=\"1\" class=\"dataframe\">\n",
       "  <thead>\n",
       "    <tr style=\"text-align: right;\">\n",
       "      <th></th>\n",
       "      <th>user</th>\n",
       "      <th>song</th>\n",
       "      <th>play_count</th>\n",
       "    </tr>\n",
       "  </thead>\n",
       "  <tbody>\n",
       "    <tr>\n",
       "      <th>0</th>\n",
       "      <td>b80344d063b5ccb3212f76538f3d9e43d87dca9e</td>\n",
       "      <td>SOAKIMP12A8C130995</td>\n",
       "      <td>1</td>\n",
       "    </tr>\n",
       "    <tr>\n",
       "      <th>1</th>\n",
       "      <td>b80344d063b5ccb3212f76538f3d9e43d87dca9e</td>\n",
       "      <td>SOAPDEY12A81C210A9</td>\n",
       "      <td>1</td>\n",
       "    </tr>\n",
       "    <tr>\n",
       "      <th>2</th>\n",
       "      <td>b80344d063b5ccb3212f76538f3d9e43d87dca9e</td>\n",
       "      <td>SOBBMDR12A8C13253B</td>\n",
       "      <td>2</td>\n",
       "    </tr>\n",
       "    <tr>\n",
       "      <th>3</th>\n",
       "      <td>b80344d063b5ccb3212f76538f3d9e43d87dca9e</td>\n",
       "      <td>SOBFNSP12AF72A0E22</td>\n",
       "      <td>1</td>\n",
       "    </tr>\n",
       "    <tr>\n",
       "      <th>4</th>\n",
       "      <td>b80344d063b5ccb3212f76538f3d9e43d87dca9e</td>\n",
       "      <td>SOBFOVM12A58A7D494</td>\n",
       "      <td>1</td>\n",
       "    </tr>\n",
       "  </tbody>\n",
       "</table>\n",
       "</div>"
      ],
      "text/plain": [
       "                                       user                song  play_count\n",
       "0  b80344d063b5ccb3212f76538f3d9e43d87dca9e  SOAKIMP12A8C130995           1\n",
       "1  b80344d063b5ccb3212f76538f3d9e43d87dca9e  SOAPDEY12A81C210A9           1\n",
       "2  b80344d063b5ccb3212f76538f3d9e43d87dca9e  SOBBMDR12A8C13253B           2\n",
       "3  b80344d063b5ccb3212f76538f3d9e43d87dca9e  SOBFNSP12AF72A0E22           1\n",
       "4  b80344d063b5ccb3212f76538f3d9e43d87dca9e  SOBFOVM12A58A7D494           1"
      ]
     },
     "execution_count": 4,
     "metadata": {},
     "output_type": "execute_result"
    }
   ],
   "source": [
    "#Sample rows of Echnoest taste profile dataset\n",
    "triplet_dataset.head()"
   ]
  },
  {
   "cell_type": "code",
   "execution_count": 5,
   "id": "68c4e95d",
   "metadata": {},
   "outputs": [
    {
     "data": {
      "text/plain": [
       "(48373586, 3)"
      ]
     },
     "execution_count": 5,
     "metadata": {},
     "output_type": "execute_result"
    }
   ],
   "source": [
    "triplet_dataset.shape"
   ]
  },
  {
   "cell_type": "code",
   "execution_count": 6,
   "id": "905422ef",
   "metadata": {},
   "outputs": [],
   "source": [
    "#Determine how many unique users does the dataset have. \n",
    "#So we concentrate on users that consitute to a large percentage of play counts\n",
    "#Due to the large size of the file, we will read it line by line\n",
    "#We will then extract play count information on a user\n",
    "\n",
    "\n",
    "output_dict = {}\n",
    "\n",
    "with open(filepath) as f:\n",
    "    for line_number,line in enumerate(f):\n",
    "        user = line.split('\\t')[0]\n",
    "        play_count = int(line.split('\\t')[2])\n",
    "        if user in output_dict:\n",
    "            play_count += output_dict[user]\n",
    "            output_dict.update({user:play_count})\n",
    "        output_dict.update({user:play_count})\n",
    "    output_list = [{'user':k,'play_count':v} for k,v in output_dict.items()]\n",
    "    user_count_df = pd.DataFrame(output_list)\n",
    "    user_count_df = user_count_df.sort_values(by='play_count',ascending = False)\n",
    "    user_count_df = user_count_df.reset_index()\n",
    "    user_count_df.drop(columns = 'index',inplace = True)\n",
    "    user_count_df.to_csv(path_or_buf = '../data/user_playcount_df.csv',index = False)"
   ]
  },
  {
   "cell_type": "code",
   "execution_count": 7,
   "id": "ed2edc55",
   "metadata": {},
   "outputs": [
    {
     "data": {
      "text/html": [
       "<div>\n",
       "<style scoped>\n",
       "    .dataframe tbody tr th:only-of-type {\n",
       "        vertical-align: middle;\n",
       "    }\n",
       "\n",
       "    .dataframe tbody tr th {\n",
       "        vertical-align: top;\n",
       "    }\n",
       "\n",
       "    .dataframe thead th {\n",
       "        text-align: right;\n",
       "    }\n",
       "</style>\n",
       "<table border=\"1\" class=\"dataframe\">\n",
       "  <thead>\n",
       "    <tr style=\"text-align: right;\">\n",
       "      <th></th>\n",
       "      <th>user</th>\n",
       "      <th>play_count</th>\n",
       "    </tr>\n",
       "  </thead>\n",
       "  <tbody>\n",
       "    <tr>\n",
       "      <th>0</th>\n",
       "      <td>093cb74eb3c517c5179ae24caf0ebec51b24d2a2</td>\n",
       "      <td>13132</td>\n",
       "    </tr>\n",
       "    <tr>\n",
       "      <th>1</th>\n",
       "      <td>119b7c88d58d0c6eb051365c103da5caf817bea6</td>\n",
       "      <td>9884</td>\n",
       "    </tr>\n",
       "    <tr>\n",
       "      <th>2</th>\n",
       "      <td>3fa44653315697f42410a30cb766a4eb102080bb</td>\n",
       "      <td>8210</td>\n",
       "    </tr>\n",
       "    <tr>\n",
       "      <th>3</th>\n",
       "      <td>a2679496cd0af9779a92a13ff7c6af5c81ea8c7b</td>\n",
       "      <td>7015</td>\n",
       "    </tr>\n",
       "    <tr>\n",
       "      <th>4</th>\n",
       "      <td>d7d2d888ae04d16e994d6964214a1de81392ee04</td>\n",
       "      <td>6494</td>\n",
       "    </tr>\n",
       "  </tbody>\n",
       "</table>\n",
       "</div>"
      ],
      "text/plain": [
       "                                       user  play_count\n",
       "0  093cb74eb3c517c5179ae24caf0ebec51b24d2a2       13132\n",
       "1  119b7c88d58d0c6eb051365c103da5caf817bea6        9884\n",
       "2  3fa44653315697f42410a30cb766a4eb102080bb        8210\n",
       "3  a2679496cd0af9779a92a13ff7c6af5c81ea8c7b        7015\n",
       "4  d7d2d888ae04d16e994d6964214a1de81392ee04        6494"
      ]
     },
     "execution_count": 7,
     "metadata": {},
     "output_type": "execute_result"
    }
   ],
   "source": [
    "user_count_df.head()"
   ]
  },
  {
   "cell_type": "code",
   "execution_count": 8,
   "id": "af1e4cdd",
   "metadata": {},
   "outputs": [],
   "source": [
    "#Determine how many unique songs does the dataset have. \n",
    "#So we concentrate on songs that consitute to a large percentage of play counts\n",
    "#Due to the large size of the file, we will read it line by line\n",
    "#We will then extract play count information on a song\n",
    "\n",
    "\n",
    "output_dict = {}\n",
    "\n",
    "with open(filepath) as f:\n",
    "    for line_number,line in enumerate(f):\n",
    "        song = line.split('\\t')[1]\n",
    "        play_count = int(line.split('\\t')[2])\n",
    "        if song in output_dict:\n",
    "            play_count += output_dict[song]\n",
    "            output_dict.update({song:play_count})\n",
    "        output_dict.update({song:play_count})\n",
    "    output_list = [{'song':k,'play_count':v} for k,v in output_dict.items()]\n",
    "    song_count_df = pd.DataFrame(output_list)\n",
    "    song_count_df = song_count_df.sort_values(by='play_count',ascending = False)\n",
    "    song_count_df = song_count_df.reset_index()\n",
    "    song_count_df.drop(columns = 'index',inplace = True)\n",
    "    song_count_df.to_csv(path_or_buf = '../data/song_playcount_df.csv',index = False)"
   ]
  },
  {
   "cell_type": "code",
   "execution_count": 9,
   "id": "afcbba1d",
   "metadata": {},
   "outputs": [
    {
     "data": {
      "text/html": [
       "<div>\n",
       "<style scoped>\n",
       "    .dataframe tbody tr th:only-of-type {\n",
       "        vertical-align: middle;\n",
       "    }\n",
       "\n",
       "    .dataframe tbody tr th {\n",
       "        vertical-align: top;\n",
       "    }\n",
       "\n",
       "    .dataframe thead th {\n",
       "        text-align: right;\n",
       "    }\n",
       "</style>\n",
       "<table border=\"1\" class=\"dataframe\">\n",
       "  <thead>\n",
       "    <tr style=\"text-align: right;\">\n",
       "      <th></th>\n",
       "      <th>song</th>\n",
       "      <th>play_count</th>\n",
       "    </tr>\n",
       "  </thead>\n",
       "  <tbody>\n",
       "    <tr>\n",
       "      <th>0</th>\n",
       "      <td>SOBONKR12A58A7A7E0</td>\n",
       "      <td>726885</td>\n",
       "    </tr>\n",
       "    <tr>\n",
       "      <th>1</th>\n",
       "      <td>SOAUWYT12A81C206F1</td>\n",
       "      <td>648239</td>\n",
       "    </tr>\n",
       "    <tr>\n",
       "      <th>2</th>\n",
       "      <td>SOSXLTC12AF72A7F54</td>\n",
       "      <td>527893</td>\n",
       "    </tr>\n",
       "    <tr>\n",
       "      <th>3</th>\n",
       "      <td>SOFRQTD12A81C233C0</td>\n",
       "      <td>425463</td>\n",
       "    </tr>\n",
       "    <tr>\n",
       "      <th>4</th>\n",
       "      <td>SOEGIYH12A6D4FC0E3</td>\n",
       "      <td>389880</td>\n",
       "    </tr>\n",
       "  </tbody>\n",
       "</table>\n",
       "</div>"
      ],
      "text/plain": [
       "                 song  play_count\n",
       "0  SOBONKR12A58A7A7E0      726885\n",
       "1  SOAUWYT12A81C206F1      648239\n",
       "2  SOSXLTC12AF72A7F54      527893\n",
       "3  SOFRQTD12A81C233C0      425463\n",
       "4  SOEGIYH12A6D4FC0E3      389880"
      ]
     },
     "execution_count": 9,
     "metadata": {},
     "output_type": "execute_result"
    }
   ],
   "source": [
    "\n",
    "song_count_df.head()"
   ]
  },
  {
   "cell_type": "code",
   "execution_count": 10,
   "id": "9c75a1d2",
   "metadata": {},
   "outputs": [
    {
     "data": {
      "text/plain": [
       "(1019318, 2)"
      ]
     },
     "execution_count": 10,
     "metadata": {},
     "output_type": "execute_result"
    }
   ],
   "source": [
    "user_count_df.shape"
   ]
  },
  {
   "cell_type": "code",
   "execution_count": 11,
   "id": "a3bd9d1e",
   "metadata": {},
   "outputs": [
    {
     "data": {
      "text/plain": [
       "(384546, 2)"
      ]
     },
     "execution_count": 11,
     "metadata": {},
     "output_type": "execute_result"
    }
   ],
   "source": [
    "song_count_df.shape"
   ]
  },
  {
   "cell_type": "code",
   "execution_count": 12,
   "id": "a8b74163",
   "metadata": {},
   "outputs": [
    {
     "data": {
      "text/plain": [
       "40.8807280500655"
      ]
     },
     "execution_count": 12,
     "metadata": {},
     "output_type": "execute_result"
    }
   ],
   "source": [
    "#Determining Number of users (n) accounting to 40% of play counts\n",
    "total_play_count = sum(user_count_df.play_count)\n",
    "(float(user_count_df.head(n=100000).play_count.sum())/total_play_count)*100"
   ]
  },
  {
   "cell_type": "code",
   "execution_count": 13,
   "id": "74f05bde",
   "metadata": {},
   "outputs": [
    {
     "data": {
      "text/plain": [
       "78.39315366645269"
      ]
     },
     "execution_count": 13,
     "metadata": {},
     "output_type": "execute_result"
    }
   ],
   "source": [
    "#Determining Number of songs (n) accounting to 80% of play counts\n",
    "total_play_count = sum(song_count_df.play_count)\n",
    "(float(song_count_df.head(n=30000).play_count.sum())/total_play_count)*100"
   ]
  },
  {
   "cell_type": "code",
   "execution_count": 14,
   "id": "bb6e7070",
   "metadata": {},
   "outputs": [],
   "source": [
    "#Subsets of users\n",
    "user_count_subset = user_count_df.head(n=100000)\n",
    "user_subset = user_count_subset.user\n",
    "\n",
    "#Subsets of songs\n",
    "song_count_subset = song_count_df.head(n=30000)\n",
    "song_subset = song_count_subset.song"
   ]
  },
  {
   "cell_type": "code",
   "execution_count": 15,
   "id": "8ceceabe",
   "metadata": {},
   "outputs": [],
   "source": [
    "#Code to form subsets of with maximum play counts per song and user\n",
    "triplet_dataset_sub = triplet_dataset[triplet_dataset.user.isin(user_subset)]\n",
    "del(triplet_dataset)\n",
    "triplet_dataset_sub_song = triplet_dataset_sub[triplet_dataset_sub.song.isin(song_subset)]\n",
    "triplet_dataset_sub_song = triplet_dataset_sub_song.reset_index()\n",
    "triplet_dataset_sub_song.drop(columns = 'index',inplace = True)\n",
    "del(triplet_dataset_sub)"
   ]
  },
  {
   "cell_type": "code",
   "execution_count": 16,
   "id": "c1057814",
   "metadata": {},
   "outputs": [
    {
     "data": {
      "text/html": [
       "<div>\n",
       "<style scoped>\n",
       "    .dataframe tbody tr th:only-of-type {\n",
       "        vertical-align: middle;\n",
       "    }\n",
       "\n",
       "    .dataframe tbody tr th {\n",
       "        vertical-align: top;\n",
       "    }\n",
       "\n",
       "    .dataframe thead th {\n",
       "        text-align: right;\n",
       "    }\n",
       "</style>\n",
       "<table border=\"1\" class=\"dataframe\">\n",
       "  <thead>\n",
       "    <tr style=\"text-align: right;\">\n",
       "      <th></th>\n",
       "      <th>user</th>\n",
       "      <th>song</th>\n",
       "      <th>play_count</th>\n",
       "    </tr>\n",
       "  </thead>\n",
       "  <tbody>\n",
       "    <tr>\n",
       "      <th>0</th>\n",
       "      <td>d6589314c0a9bcbca4fee0c93b14bc402363afea</td>\n",
       "      <td>SOADQPP12A67020C82</td>\n",
       "      <td>12</td>\n",
       "    </tr>\n",
       "    <tr>\n",
       "      <th>1</th>\n",
       "      <td>d6589314c0a9bcbca4fee0c93b14bc402363afea</td>\n",
       "      <td>SOAFTRR12AF72A8D4D</td>\n",
       "      <td>1</td>\n",
       "    </tr>\n",
       "    <tr>\n",
       "      <th>2</th>\n",
       "      <td>d6589314c0a9bcbca4fee0c93b14bc402363afea</td>\n",
       "      <td>SOANQFY12AB0183239</td>\n",
       "      <td>1</td>\n",
       "    </tr>\n",
       "    <tr>\n",
       "      <th>3</th>\n",
       "      <td>d6589314c0a9bcbca4fee0c93b14bc402363afea</td>\n",
       "      <td>SOAYATB12A6701FD50</td>\n",
       "      <td>1</td>\n",
       "    </tr>\n",
       "    <tr>\n",
       "      <th>4</th>\n",
       "      <td>d6589314c0a9bcbca4fee0c93b14bc402363afea</td>\n",
       "      <td>SOBOAFP12A8C131F36</td>\n",
       "      <td>7</td>\n",
       "    </tr>\n",
       "  </tbody>\n",
       "</table>\n",
       "</div>"
      ],
      "text/plain": [
       "                                       user                song  play_count\n",
       "0  d6589314c0a9bcbca4fee0c93b14bc402363afea  SOADQPP12A67020C82          12\n",
       "1  d6589314c0a9bcbca4fee0c93b14bc402363afea  SOAFTRR12AF72A8D4D           1\n",
       "2  d6589314c0a9bcbca4fee0c93b14bc402363afea  SOANQFY12AB0183239           1\n",
       "3  d6589314c0a9bcbca4fee0c93b14bc402363afea  SOAYATB12A6701FD50           1\n",
       "4  d6589314c0a9bcbca4fee0c93b14bc402363afea  SOBOAFP12A8C131F36           7"
      ]
     },
     "execution_count": 16,
     "metadata": {},
     "output_type": "execute_result"
    }
   ],
   "source": [
    "triplet_dataset_sub_song.head()"
   ]
  },
  {
   "cell_type": "code",
   "execution_count": 17,
   "id": "790c8eb5",
   "metadata": {},
   "outputs": [
    {
     "data": {
      "text/plain": [
       "(10774558, 3)"
      ]
     },
     "execution_count": 17,
     "metadata": {},
     "output_type": "execute_result"
    }
   ],
   "source": [
    "triplet_dataset_sub_song.shape"
   ]
  }
 ],
 "metadata": {
  "kernelspec": {
   "display_name": "Python 3 (ipykernel)",
   "language": "python",
   "name": "python3"
  },
  "language_info": {
   "codemirror_mode": {
    "name": "ipython",
    "version": 3
   },
   "file_extension": ".py",
   "mimetype": "text/x-python",
   "name": "python",
   "nbconvert_exporter": "python",
   "pygments_lexer": "ipython3",
   "version": "3.9.13"
  }
 },
 "nbformat": 4,
 "nbformat_minor": 5
}
