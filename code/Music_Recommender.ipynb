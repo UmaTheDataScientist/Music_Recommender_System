{
 "cells": [
  {
   "cell_type": "code",
   "execution_count": 1,
   "id": "6c3da634",
   "metadata": {},
   "outputs": [],
   "source": [
    "#Import Statements\n",
    "import pandas as pd\n",
    "import sqlite3\n",
    "import matplotlib.pyplot as plt\n",
    "import numpy as np"
   ]
  },
  {
   "cell_type": "markdown",
   "id": "304a3866",
   "metadata": {},
   "source": [
    "## Dataset"
   ]
  },
  {
   "cell_type": "code",
   "execution_count": 2,
   "id": "30f725ac",
   "metadata": {},
   "outputs": [],
   "source": [
    "filepath = '../data/train_triplets.txt'\n",
    "triplet_dataset = pd.read_csv(filepath_or_buffer = filepath,header = None,sep = '\\t',names = ['user','song','play_count'])"
   ]
  },
  {
   "cell_type": "code",
   "execution_count": 3,
   "id": "83291a5f",
   "metadata": {},
   "outputs": [
    {
     "data": {
      "text/html": [
       "<div>\n",
       "<style scoped>\n",
       "    .dataframe tbody tr th:only-of-type {\n",
       "        vertical-align: middle;\n",
       "    }\n",
       "\n",
       "    .dataframe tbody tr th {\n",
       "        vertical-align: top;\n",
       "    }\n",
       "\n",
       "    .dataframe thead th {\n",
       "        text-align: right;\n",
       "    }\n",
       "</style>\n",
       "<table border=\"1\" class=\"dataframe\">\n",
       "  <thead>\n",
       "    <tr style=\"text-align: right;\">\n",
       "      <th></th>\n",
       "      <th>user</th>\n",
       "      <th>song</th>\n",
       "      <th>play_count</th>\n",
       "    </tr>\n",
       "  </thead>\n",
       "  <tbody>\n",
       "    <tr>\n",
       "      <th>0</th>\n",
       "      <td>b80344d063b5ccb3212f76538f3d9e43d87dca9e</td>\n",
       "      <td>SOAKIMP12A8C130995</td>\n",
       "      <td>1</td>\n",
       "    </tr>\n",
       "    <tr>\n",
       "      <th>1</th>\n",
       "      <td>b80344d063b5ccb3212f76538f3d9e43d87dca9e</td>\n",
       "      <td>SOAPDEY12A81C210A9</td>\n",
       "      <td>1</td>\n",
       "    </tr>\n",
       "    <tr>\n",
       "      <th>2</th>\n",
       "      <td>b80344d063b5ccb3212f76538f3d9e43d87dca9e</td>\n",
       "      <td>SOBBMDR12A8C13253B</td>\n",
       "      <td>2</td>\n",
       "    </tr>\n",
       "    <tr>\n",
       "      <th>3</th>\n",
       "      <td>b80344d063b5ccb3212f76538f3d9e43d87dca9e</td>\n",
       "      <td>SOBFNSP12AF72A0E22</td>\n",
       "      <td>1</td>\n",
       "    </tr>\n",
       "    <tr>\n",
       "      <th>4</th>\n",
       "      <td>b80344d063b5ccb3212f76538f3d9e43d87dca9e</td>\n",
       "      <td>SOBFOVM12A58A7D494</td>\n",
       "      <td>1</td>\n",
       "    </tr>\n",
       "  </tbody>\n",
       "</table>\n",
       "</div>"
      ],
      "text/plain": [
       "                                       user                song  play_count\n",
       "0  b80344d063b5ccb3212f76538f3d9e43d87dca9e  SOAKIMP12A8C130995           1\n",
       "1  b80344d063b5ccb3212f76538f3d9e43d87dca9e  SOAPDEY12A81C210A9           1\n",
       "2  b80344d063b5ccb3212f76538f3d9e43d87dca9e  SOBBMDR12A8C13253B           2\n",
       "3  b80344d063b5ccb3212f76538f3d9e43d87dca9e  SOBFNSP12AF72A0E22           1\n",
       "4  b80344d063b5ccb3212f76538f3d9e43d87dca9e  SOBFOVM12A58A7D494           1"
      ]
     },
     "execution_count": 3,
     "metadata": {},
     "output_type": "execute_result"
    }
   ],
   "source": [
    "triplet_dataset.head()"
   ]
  },
  {
   "cell_type": "code",
   "execution_count": 4,
   "id": "ca4a6d36",
   "metadata": {},
   "outputs": [
    {
     "data": {
      "text/plain": [
       "(48373586, 3)"
      ]
     },
     "execution_count": 4,
     "metadata": {},
     "output_type": "execute_result"
    }
   ],
   "source": [
    "triplet_dataset.shape"
   ]
  },
  {
   "cell_type": "markdown",
   "id": "d7c9d360",
   "metadata": {},
   "source": [
    "## Exploratory Data Analysis (EDA):\n"
   ]
  },
  {
   "cell_type": "code",
   "execution_count": 5,
   "id": "905422ef",
   "metadata": {},
   "outputs": [],
   "source": [
    "#Determine how many unique users does the dataset have. \n",
    "#So we concentrate on users that consitute to a large percentage of play counts\n",
    "#Due to the large size of the file, we will read it line by line\n",
    "#We will then extract play count information on a user\n",
    "\n",
    "\n",
    "output_dict = {}\n",
    "\n",
    "with open(filepath) as f:\n",
    "    for line_number,line in enumerate(f):\n",
    "        user = line.split('\\t')[0]\n",
    "        play_count = int(line.split('\\t')[2])\n",
    "        if user in output_dict:\n",
    "            play_count += output_dict[user]\n",
    "            output_dict.update({user:play_count})\n",
    "        output_dict.update({user:play_count})\n",
    "    output_list = [{'user':k,'play_count':v} for k,v in output_dict.items()]\n",
    "    user_count_df = pd.DataFrame(output_list)\n",
    "    user_count_df = user_count_df.sort_values(by='play_count',ascending = False)\n",
    "    user_count_df = user_count_df.reset_index()\n",
    "    user_count_df.drop(columns = 'index',inplace = True)\n",
    "    #user_count_df.to_csv(path_or_buf = '../data/user_playcount_df.csv',index = False)"
   ]
  },
  {
   "cell_type": "code",
   "execution_count": 6,
   "id": "ed2edc55",
   "metadata": {},
   "outputs": [
    {
     "data": {
      "text/html": [
       "<div>\n",
       "<style scoped>\n",
       "    .dataframe tbody tr th:only-of-type {\n",
       "        vertical-align: middle;\n",
       "    }\n",
       "\n",
       "    .dataframe tbody tr th {\n",
       "        vertical-align: top;\n",
       "    }\n",
       "\n",
       "    .dataframe thead th {\n",
       "        text-align: right;\n",
       "    }\n",
       "</style>\n",
       "<table border=\"1\" class=\"dataframe\">\n",
       "  <thead>\n",
       "    <tr style=\"text-align: right;\">\n",
       "      <th></th>\n",
       "      <th>user</th>\n",
       "      <th>play_count</th>\n",
       "    </tr>\n",
       "  </thead>\n",
       "  <tbody>\n",
       "    <tr>\n",
       "      <th>0</th>\n",
       "      <td>093cb74eb3c517c5179ae24caf0ebec51b24d2a2</td>\n",
       "      <td>13132</td>\n",
       "    </tr>\n",
       "    <tr>\n",
       "      <th>1</th>\n",
       "      <td>119b7c88d58d0c6eb051365c103da5caf817bea6</td>\n",
       "      <td>9884</td>\n",
       "    </tr>\n",
       "    <tr>\n",
       "      <th>2</th>\n",
       "      <td>3fa44653315697f42410a30cb766a4eb102080bb</td>\n",
       "      <td>8210</td>\n",
       "    </tr>\n",
       "    <tr>\n",
       "      <th>3</th>\n",
       "      <td>a2679496cd0af9779a92a13ff7c6af5c81ea8c7b</td>\n",
       "      <td>7015</td>\n",
       "    </tr>\n",
       "    <tr>\n",
       "      <th>4</th>\n",
       "      <td>d7d2d888ae04d16e994d6964214a1de81392ee04</td>\n",
       "      <td>6494</td>\n",
       "    </tr>\n",
       "  </tbody>\n",
       "</table>\n",
       "</div>"
      ],
      "text/plain": [
       "                                       user  play_count\n",
       "0  093cb74eb3c517c5179ae24caf0ebec51b24d2a2       13132\n",
       "1  119b7c88d58d0c6eb051365c103da5caf817bea6        9884\n",
       "2  3fa44653315697f42410a30cb766a4eb102080bb        8210\n",
       "3  a2679496cd0af9779a92a13ff7c6af5c81ea8c7b        7015\n",
       "4  d7d2d888ae04d16e994d6964214a1de81392ee04        6494"
      ]
     },
     "execution_count": 6,
     "metadata": {},
     "output_type": "execute_result"
    }
   ],
   "source": [
    "user_count_df.head()"
   ]
  },
  {
   "cell_type": "code",
   "execution_count": null,
   "id": "442fb71b",
   "metadata": {},
   "outputs": [],
   "source": [
    "#Determine how many unique songs does the dataset have. \n",
    "#So we concentrate on songs that consitute to a large percentage of play counts\n",
    "#Due to the large size of the file, we will read it line by line\n",
    "#We will then extract play count information on a song\n",
    "\n",
    "\n",
    "output_dict = {}\n",
    "\n",
    "with open(filepath) as f:\n",
    "    for line_number,line in enumerate(f):\n",
    "        song = line.split('\\t')[1]\n",
    "        play_count = int(line.split('\\t')[2])\n",
    "        if song in output_dict:\n",
    "            play_count += output_dict[song]\n",
    "            output_dict.update({song:play_count})\n",
    "        output_dict.update({song:play_count})\n",
    "    output_list = [{'song':k,'play_count':v} for k,v in output_dict.items()]\n",
    "    song_count_df = pd.DataFrame(output_list)\n",
    "    song_count_df = song_count_df.sort_values(by='play_count',ascending = False)\n",
    "    song_count_df = song_count_df.reset_index()\n",
    "    song_count_df.drop(columns = 'index',inplace = True)\n",
    "    #song_count_df.to_csv(path_or_buf = '../data/song_playcount_df.csv',index = False)"
   ]
  },
  {
   "cell_type": "code",
   "execution_count": null,
   "id": "b890eb1f",
   "metadata": {},
   "outputs": [],
   "source": [
    "\n",
    "song_count_df.head()"
   ]
  },
  {
   "cell_type": "code",
   "execution_count": null,
   "id": "2f7616ac",
   "metadata": {},
   "outputs": [],
   "source": [
    "user_count_df.shape"
   ]
  },
  {
   "cell_type": "code",
   "execution_count": null,
   "id": "42b89a80",
   "metadata": {},
   "outputs": [],
   "source": [
    "song_count_df.shape"
   ]
  },
  {
   "cell_type": "code",
   "execution_count": null,
   "id": "3538ff6f",
   "metadata": {},
   "outputs": [],
   "source": [
    "#Determining Number of users (n) accounting to 40% of play counts\n",
    "total_play_count = sum(user_count_df.play_count)\n",
    "(float(user_count_df.head(n=100000).play_count.sum())/total_play_count)*100"
   ]
  },
  {
   "cell_type": "code",
   "execution_count": null,
   "id": "69d1110c",
   "metadata": {},
   "outputs": [],
   "source": [
    "#Determining Number of songs (n) accounting to 80% of play counts\n",
    "total_play_count = sum(song_count_df.play_count)\n",
    "(float(song_count_df.head(n=30000).play_count.sum())/total_play_count)*100"
   ]
  },
  {
   "cell_type": "code",
   "execution_count": null,
   "id": "4b01727c",
   "metadata": {},
   "outputs": [],
   "source": [
    "#Subsets of users\n",
    "user_count_subset = user_count_df.head(n=100000)\n",
    "user_subset = user_count_subset.user\n",
    "\n",
    "#Subsets of songs\n",
    "song_count_subset = song_count_df.head(n=30000)\n",
    "song_subset = song_count_subset.song"
   ]
  },
  {
   "cell_type": "code",
   "execution_count": null,
   "id": "fd7bb1b6",
   "metadata": {},
   "outputs": [],
   "source": [
    "#Code to form subsets of with maximum play counts per song and user\n",
    "triplet_dataset_sub = triplet_dataset[triplet_dataset.user.isin(user_subset)]\n",
    "del(triplet_dataset)\n",
    "triplet_dataset_sub_song = triplet_dataset_sub[triplet_dataset_sub.song.isin(song_subset)]\n",
    "triplet_dataset_sub_song = triplet_dataset_sub_song.reset_index()\n",
    "triplet_dataset_sub_song.drop(columns = 'index',inplace = True)\n",
    "del(triplet_dataset_sub)"
   ]
  },
  {
   "cell_type": "code",
   "execution_count": null,
   "id": "e831e20f",
   "metadata": {},
   "outputs": [],
   "source": [
    "#Final subset\n",
    "triplet_dataset_sub_song.head()"
   ]
  },
  {
   "cell_type": "code",
   "execution_count": null,
   "id": "cd56a1cc",
   "metadata": {},
   "outputs": [],
   "source": [
    "#Number of rows and columns in final subset\n",
    "triplet_dataset_sub_song.shape"
   ]
  },
  {
   "cell_type": "markdown",
   "id": "c70d1a65",
   "metadata": {},
   "source": [
    "### Enhancing The Data:\n"
   ]
  },
  {
   "cell_type": "code",
   "execution_count": null,
   "id": "99d90be4",
   "metadata": {},
   "outputs": [],
   "source": [
    "conn = sqlite3.connect('../data/track_metadata.db')\n",
    "cur = conn.cursor()\n",
    "cur.execute(\"select name from sqlite_master where type = 'table'\")\n",
    "cur.fetchall()"
   ]
  },
  {
   "cell_type": "code",
   "execution_count": null,
   "id": "f506f309",
   "metadata": {},
   "outputs": [],
   "source": [
    "track_metadata_df = pd.read_sql_query(\"SELECT * from songs\", conn)\n"
   ]
  },
  {
   "cell_type": "code",
   "execution_count": null,
   "id": "34caca01",
   "metadata": {},
   "outputs": [],
   "source": [
    "track_metadata_df.head()"
   ]
  },
  {
   "cell_type": "code",
   "execution_count": null,
   "id": "fa321656",
   "metadata": {},
   "outputs": [],
   "source": [
    "track_metadata_df.drop(columns = ['track_id','artist_mbid','artist_id','duration','artist_familiarity','artist_hotttnesss','track_7digitalid','shs_perf','shs_work'],inplace = True)"
   ]
  },
  {
   "cell_type": "code",
   "execution_count": null,
   "id": "136dbf9e",
   "metadata": {},
   "outputs": [],
   "source": [
    "track_metadata_df = track_metadata_df.drop_duplicates(['song_id'])"
   ]
  },
  {
   "cell_type": "code",
   "execution_count": null,
   "id": "5826b0e8",
   "metadata": {},
   "outputs": [],
   "source": [
    "triple_dataset_merged = pd.merge(triplet_dataset_sub_song,track_metadata_df,how = 'left',left_on = 'song',right_on = 'song_id')"
   ]
  },
  {
   "cell_type": "code",
   "execution_count": null,
   "id": "d63046b4",
   "metadata": {},
   "outputs": [],
   "source": [
    "triple_dataset_merged.head()"
   ]
  },
  {
   "cell_type": "code",
   "execution_count": null,
   "id": "ef90e440",
   "metadata": {},
   "outputs": [],
   "source": [
    "triple_dataset_merged.rename(columns = {'play_count':'listen_count'},inplace  =True)\n",
    "triple_dataset_merged.drop(columns = ['song_id'],inplace = True)\n",
    "triple_dataset_merged.head()"
   ]
  },
  {
   "cell_type": "markdown",
   "id": "40a7f895",
   "metadata": {},
   "source": [
    "### Visual Analysis"
   ]
  },
  {
   "cell_type": "code",
   "execution_count": null,
   "id": "233134e4",
   "metadata": {},
   "outputs": [],
   "source": [
    "plt.rcdefaults()\n",
    "popular_songs = triple_dataset_merged[['title','listen_count']].groupby('title').sum().reset_index()"
   ]
  },
  {
   "cell_type": "code",
   "execution_count": null,
   "id": "ee3c0111",
   "metadata": {},
   "outputs": [],
   "source": [
    "popular_songs.head()"
   ]
  },
  {
   "cell_type": "code",
   "execution_count": null,
   "id": "ccc7afd3",
   "metadata": {},
   "outputs": [],
   "source": [
    "popular_songs_top_20 = popular_songs.sort_values('listen_count',ascending = False).head(n=20).reset_index()\n",
    "popular_songs_top_20.drop(columns = ['index'],inplace  =True)"
   ]
  },
  {
   "cell_type": "code",
   "execution_count": null,
   "id": "6ec4655d",
   "metadata": {},
   "outputs": [],
   "source": [
    "popular_songs_top_20.head()"
   ]
  },
  {
   "cell_type": "code",
   "execution_count": null,
   "id": "1ddf601f",
   "metadata": {},
   "outputs": [],
   "source": [
    "objects = list(popular_songs_top_20['title'])\n",
    "y_pos = np.arange(len(objects))\n",
    "performance = list(popular_songs_top_20['listen_count'])"
   ]
  },
  {
   "cell_type": "code",
   "execution_count": null,
   "id": "1112f24f",
   "metadata": {},
   "outputs": [],
   "source": [
    "plt.bar(y_pos,performance,align = 'center',alpha = 0.5)\n",
    "plt.xticks(y_pos,objects,rotation = 'vertical')\n",
    "plt.ylabel('Number of times listened')\n",
    "plt.title('Most popular songs')\n",
    "plt.show()"
   ]
  },
  {
   "cell_type": "markdown",
   "id": "fc8fbb91",
   "metadata": {},
   "source": [
    "#### Most Popular Artists"
   ]
  },
  {
   "cell_type": "code",
   "execution_count": null,
   "id": "563cc129",
   "metadata": {},
   "outputs": [],
   "source": [
    "plt.rcdefaults()\n",
    "\n",
    "popular_artists = triple_dataset_merged[['artist_name','listen_count']].groupby('artist_name').sum().reset_index()\n",
    "popular_artists_top_20 = popular_artists.sort_values('listen_count',ascending = False).head(n=20).reset_index()\n",
    "popular_artists_top_20.drop(columns = ['index'],inplace  =True)\n",
    "objects = list(popular_artists_top_20['artist_name'])\n",
    "y_pos = np.arange(len(objects))\n",
    "performance = list(popular_artists_top_20['listen_count'])\n",
    "plt.bar(y_pos,performance,align = 'center',alpha = 0.5)\n",
    "plt.xticks(y_pos,objects,rotation = 'vertical')\n",
    "plt.ylabel('Number of times listened')\n",
    "plt.title('Most popular artists')\n",
    "plt.show()"
   ]
  },
  {
   "cell_type": "markdown",
   "id": "1ff42851",
   "metadata": {},
   "source": [
    "### Popularity Based Recommender"
   ]
  },
  {
   "cell_type": "code",
   "execution_count": null,
   "id": "26ad05e1",
   "metadata": {},
   "outputs": [],
   "source": [
    "def create_popularity_recommendation(train_data,user_id,item_id):\n",
    "    #Get a count of user_ids for each unique song as recommendation score\n",
    "    train_data_grouped = train_data.groupby([item_id]).agg({user_id:'count'}).reset_index()\n",
    "    train_data_grouped.rename(columns = {user_id:'score'},inplace = True)\n",
    "    \n",
    "    #Sort the songs based on recommendation score\n",
    "    train_data_sort = train_data_grouped.sort_values(['score',item_id],ascending = [0,1])\n",
    "    \n",
    "    #Generate a recommendation rank based upon score\n",
    "    train_data_sort['Rank'] = train_data_sort['score'].rank(ascending = 0,method  ='first')\n",
    "    \n",
    "    #Get the top 20 recommendations\n",
    "    popularity_recommendations = train_data_sort.head(20)\n",
    "    return popularity_recommendations"
   ]
  },
  {
   "cell_type": "code",
   "execution_count": null,
   "id": "e9beba51",
   "metadata": {},
   "outputs": [],
   "source": [
    "recommendations = create_popularity_recommendation(triple_dataset_merged,'user','title')\n",
    "#Recommendations based on most listened song by all users\n",
    "recommendations"
   ]
  },
  {
   "cell_type": "code",
   "execution_count": null,
   "id": "d4ccd82f",
   "metadata": {},
   "outputs": [],
   "source": []
  }
 ],
 "metadata": {
  "kernelspec": {
   "display_name": "Python 3 (ipykernel)",
   "language": "python",
   "name": "python3"
  },
  "language_info": {
   "codemirror_mode": {
    "name": "ipython",
    "version": 3
   },
   "file_extension": ".py",
   "mimetype": "text/x-python",
   "name": "python",
   "nbconvert_exporter": "python",
   "pygments_lexer": "ipython3",
   "version": "3.9.13"
  }
 },
 "nbformat": 4,
 "nbformat_minor": 5
}
